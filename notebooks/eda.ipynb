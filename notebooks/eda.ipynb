{
 "cells": [
  {
   "cell_type": "code",
   "execution_count": 31,
   "metadata": {},
   "outputs": [],
   "source": [
    "import pandas as pd\n",
    "import numpy as np\n",
    "from sklearn.model_selection import train_test_split\n",
    "\n",
    "import matplotlib.pyplot as plt\n",
    "import seaborn as sns\n",
    "\n",
    "\n",
    "from pprint import pprint as pp"
   ]
  },
  {
   "cell_type": "code",
   "execution_count": 32,
   "metadata": {},
   "outputs": [
    {
     "data": {
      "text/plain": [
       "(8124, 23)"
      ]
     },
     "execution_count": 32,
     "metadata": {},
     "output_type": "execute_result"
    }
   ],
   "source": [
    "df = pd.read_csv(\"datasets/mushrooms.csv\")\n",
    "df.shape"
   ]
  },
  {
   "cell_type": "code",
   "execution_count": 33,
   "metadata": {},
   "outputs": [],
   "source": [
    "df_ = pd.get_dummies(df.iloc[:, 1:])\n",
    "features, X = df_.columns, df_.values\n",
    "\n",
    "y = df.iloc[:, 0].values\n",
    "from sklearn.preprocessing import LabelEncoder, OneHotEncoder\n",
    "label_encoder_y = LabelEncoder()\n",
    "y = label_encoder_y.fit_transform(y)"
   ]
  },
  {
   "cell_type": "code",
   "execution_count": 34,
   "metadata": {},
   "outputs": [],
   "source": [
    "X_train, X_test, y_train, y_test = train_test_split(X, y, test_size=0.2, random_state=1, stratify=y)"
   ]
  },
  {
   "cell_type": "code",
   "execution_count": 106,
   "metadata": {},
   "outputs": [
    {
     "name": "stdout",
     "output_type": "stream",
     "text": [
      "'Accuracy: 1.00 (+/- 0.00)'\n",
      "'f1: 1.00 (+/- 0.00)'\n",
      "'f1_macro: 1.00 (+/- 0.00)'\n",
      "'Accuracy: 0.97 (+/- 0.01)'\n",
      "'f1: 0.97 (+/- 0.02)'\n",
      "'f1_macro: 0.97 (+/- 0.02)'\n",
      "'Accuracy: 1.00 (+/- 0.00)'\n",
      "'f1: 1.00 (+/- 0.00)'\n",
      "'f1_macro: 1.00 (+/- 0.00)'\n",
      "'Accuracy: 1.00 (+/- 0.00)'\n",
      "'f1: 1.00 (+/- 0.00)'\n",
      "'f1_macro: 1.00 (+/- 0.00)'\n"
     ]
    }
   ],
   "source": [
    "# simple classification using K-fold\n",
    "from sklearn.model_selection import cross_val_score\n",
    "n_fold = 5 \n",
    "model_names = [\"lr\", \"rf\", \"svm\", \"gb\"]\n",
    "model_results = {}\n",
    "for name in model_names:\n",
    "    model_results[name] = {}\n",
    "\n",
    "for name in model_names:\n",
    "    if name == \"lr\":\n",
    "        from sklearn.linear_model import LogisticRegression\n",
    "        clf = LogisticRegression(random_state=0, solver='lbfgs', multi_class=\"multinomial\")\n",
    "    elif name == \"rf\":\n",
    "        from sklearn.ensemble import RandomForestClassifier\n",
    "        clf = RandomForestClassifier(n_estimators=100, max_depth=2, random_state=0)\n",
    "    elif name == \"svm\":\n",
    "        from sklearn.svm import SVC\n",
    "        clf = SVC(gamma='auto')\n",
    "    else:\n",
    "        from sklearn.ensemble import GradientBoostingClassifier\n",
    " \n",
    "        \n",
    "    cv_errors = cross_val_score(clf, X_train, y_train, cv=n_fold, scoring=\"accuracy\")\n",
    "    pp(\"Accuracy: %0.2f (+/- %0.2f)\" % (cv_errors.mean(), cv_errors.std() * 2))\n",
    "    cv_errors = cross_val_score(clf, X_train, y_train, cv=n_fold, scoring=\"f1\")\n",
    "    pp(\"f1: %0.2f (+/- %0.2f)\" % (cv_errors.mean(), cv_errors.std() * 2))\n",
    "    cv_errors = cross_val_score(clf, X_train, y_train, cv=n_fold, scoring=\"f1_macro\")\n",
    "    pp(\"f1_macro: %0.2f (+/- %0.2f)\" % (cv_errors.mean(), cv_errors.std() * 2))\n",
    "    print(\"\")\n",
    "\n",
    "    model_results[name][\"cv_errors\"] = cv_errors\n"
   ]
  },
  {
   "cell_type": "code",
   "execution_count": 35,
   "metadata": {},
   "outputs": [
    {
     "name": "stdout",
     "output_type": "stream",
     "text": [
      "1.0\n"
     ]
    }
   ],
   "source": [
    "from sklearn.linear_model import LogisticRegression\n",
    "clf = LogisticRegression(random_state=0, solver='lbfgs', multi_class=\"multinomial\")\n",
    "clf.fit(X_train, y_train)\n",
    "print(clf.score(X_test, y_test))"
   ]
  },
  {
   "cell_type": "code",
   "execution_count": null,
   "metadata": {},
   "outputs": [],
   "source": [
    "# design bandit problem\n",
    "# solve bandit problem\n",
    "# cf https://gdmarmerola.github.io/ts-for-mushroom-bandit/"
   ]
  }
 ],
 "metadata": {
  "kernelspec": {
   "display_name": "py35",
   "language": "python",
   "name": "py35"
  },
  "language_info": {
   "codemirror_mode": {
    "name": "ipython",
    "version": 3
   },
   "file_extension": ".py",
   "mimetype": "text/x-python",
   "name": "python",
   "nbconvert_exporter": "python",
   "pygments_lexer": "ipython3",
   "version": "3.5.2"
  }
 },
 "nbformat": 4,
 "nbformat_minor": 2
}
